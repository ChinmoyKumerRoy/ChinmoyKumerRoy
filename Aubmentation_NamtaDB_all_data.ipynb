{
  "nbformat": 4,
  "nbformat_minor": 0,
  "metadata": {
    "colab": {
      "name": "Aubmentation_NamtaDB_all_data.ipynb",
      "provenance": [],
      "collapsed_sections": [],
      "mount_file_id": "1pcavoQ2HwR0ukRqNO0T1rlfqLWu3nC73",
      "authorship_tag": "ABX9TyM+kFsBICBhMah07cQsjBy+",
      "include_colab_link": true
    },
    "kernelspec": {
      "name": "python3",
      "display_name": "Python 3"
    },
    "accelerator": "GPU"
  },
  "cells": [
    {
      "cell_type": "markdown",
      "metadata": {
        "id": "view-in-github",
        "colab_type": "text"
      },
      "source": [
        "<a href=\"https://colab.research.google.com/github/ChinmoyKumerRoy/ChinmoyKumerRoy/blob/main/Aubmentation_NamtaDB_all_data.ipynb\" target=\"_parent\"><img src=\"https://colab.research.google.com/assets/colab-badge.svg\" alt=\"Open In Colab\"/></a>"
      ]
    },
    {
      "cell_type": "code",
      "metadata": {
        "id": "8rVIa9u9tHbe"
      },
      "source": [
        "import numpy as np\n",
        "import cv2"
      ],
      "execution_count": null,
      "outputs": []
    },
    {
      "cell_type": "code",
      "metadata": {
        "id": "uMaGca0DySf9"
      },
      "source": [
        "x = np.load('/content/drive/My Drive/Colab Notebooks/LICT/NamtaDB_64_npy/NamtaDB_64_x.npy')/255\n",
        "y = np.load('/content/drive/My Drive/Colab Notebooks/LICT/NamtaDB_64_npy/NamtaDB_64_y.npy')"
      ],
      "execution_count": null,
      "outputs": []
    },
    {
      "cell_type": "code",
      "metadata": {
        "id": "qAfM_Q5jydyM",
        "colab": {
          "base_uri": "https://localhost:8080/",
          "height": 34
        },
        "outputId": "21ba0ef7-ec40-48ac-9bc0-383d88d4f583"
      },
      "source": [
        "x = x.reshape(-1,64,64,1)\n",
        "from keras.utils import to_categorical\n",
        "y = to_categorical(y)"
      ],
      "execution_count": null,
      "outputs": [
        {
          "output_type": "stream",
          "text": [
            "Using TensorFlow backend.\n"
          ],
          "name": "stderr"
        }
      ]
    },
    {
      "cell_type": "code",
      "metadata": {
        "id": "1MRO_R2fyqXU",
        "colab": {
          "base_uri": "https://localhost:8080/",
          "height": 34
        },
        "outputId": "218a65e1-ac61-4c15-b2d3-de6b930b52ab"
      },
      "source": [
        "y.shape"
      ],
      "execution_count": null,
      "outputs": [
        {
          "output_type": "execute_result",
          "data": {
            "text/plain": [
              "(72045, 10)"
            ]
          },
          "metadata": {
            "tags": []
          },
          "execution_count": 4
        }
      ]
    },
    {
      "cell_type": "code",
      "metadata": {
        "id": "ZP1TanxtyvCE",
        "colab": {
          "base_uri": "https://localhost:8080/",
          "height": 34
        },
        "outputId": "54ddc04f-76e7-49af-f1f6-3bbcfc5ddd91"
      },
      "source": [
        "x.shape"
      ],
      "execution_count": null,
      "outputs": [
        {
          "output_type": "execute_result",
          "data": {
            "text/plain": [
              "(72045, 64, 64, 1)"
            ]
          },
          "metadata": {
            "tags": []
          },
          "execution_count": 5
        }
      ]
    },
    {
      "cell_type": "code",
      "metadata": {
        "id": "koPdeH-SqPTb"
      },
      "source": [
        "from sklearn.model_selection import train_test_split\n",
        "X_train, X_test, y_train, y_test = train_test_split(x, y, test_size=0.2, shuffle= True, random_state=42)"
      ],
      "execution_count": null,
      "outputs": []
    },
    {
      "cell_type": "code",
      "metadata": {
        "id": "UwnoRc_iyxQE"
      },
      "source": [
        "from keras import Sequential\n",
        "from keras.layers import MaxPooling2D, Flatten, Dropout, Dense , Conv2D"
      ],
      "execution_count": null,
      "outputs": []
    },
    {
      "cell_type": "code",
      "metadata": {
        "id": "t7oi0Z-qy0yT"
      },
      "source": [
        " model = Sequential()\n",
        "    \n",
        "    \n",
        "    \n",
        "model.add(Conv2D(64, (3, 3), padding='same', activation='relu', input_shape=(64,64,1)))\n",
        "model.add(MaxPooling2D((2,2)))\n",
        "\n",
        "    \n",
        "model.add(Conv2D(128, (3, 3), padding='same', activation='relu'))\n",
        "model.add(MaxPooling2D((2,2)))\n",
        "\n",
        "    \n",
        "model.add(Conv2D(256, (3, 3), padding='same', activation='relu'))\n",
        "model.add(MaxPooling2D((2,2)))\n",
        "\n",
        "    \n",
        "model.add(Conv2D(512, (3, 3), padding='same', activation='relu'))\n",
        "model.add(MaxPooling2D((2,2)))\n",
        "\n",
        "   \n",
        "model.add(Conv2D(512, (3, 3), padding='same', activation='relu'))\n",
        "model.add(MaxPooling2D((2,2)))\n",
        "\n",
        "model.add(Flatten())\n",
        "model.add(Dense(2000, activation='relu'))\n",
        "model.add(Dropout(0.5))\n",
        "model.add(Dense(1000, activation='relu'))\n",
        "model.add(Dropout(0.5))\n",
        "model.add(Dense(10, activation='softmax'))\n",
        "\n",
        "\n",
        "model.compile(optimizer='adam' , loss='categorical_crossentropy', metrics=['accuracy'])"
      ],
      "execution_count": null,
      "outputs": []
    },
    {
      "cell_type": "code",
      "metadata": {
        "id": "0EPhrAaQzNqh",
        "colab": {
          "base_uri": "https://localhost:8080/",
          "height": 697
        },
        "outputId": "1f5bdba6-2c2b-4744-a3a5-b300e6d6078f"
      },
      "source": [
        "model.summary()"
      ],
      "execution_count": null,
      "outputs": [
        {
          "output_type": "stream",
          "text": [
            "Model: \"sequential_1\"\n",
            "_________________________________________________________________\n",
            "Layer (type)                 Output Shape              Param #   \n",
            "=================================================================\n",
            "conv2d_1 (Conv2D)            (None, 64, 64, 64)        640       \n",
            "_________________________________________________________________\n",
            "max_pooling2d_1 (MaxPooling2 (None, 32, 32, 64)        0         \n",
            "_________________________________________________________________\n",
            "conv2d_2 (Conv2D)            (None, 32, 32, 128)       73856     \n",
            "_________________________________________________________________\n",
            "max_pooling2d_2 (MaxPooling2 (None, 16, 16, 128)       0         \n",
            "_________________________________________________________________\n",
            "conv2d_3 (Conv2D)            (None, 16, 16, 256)       295168    \n",
            "_________________________________________________________________\n",
            "max_pooling2d_3 (MaxPooling2 (None, 8, 8, 256)         0         \n",
            "_________________________________________________________________\n",
            "conv2d_4 (Conv2D)            (None, 8, 8, 512)         1180160   \n",
            "_________________________________________________________________\n",
            "max_pooling2d_4 (MaxPooling2 (None, 4, 4, 512)         0         \n",
            "_________________________________________________________________\n",
            "conv2d_5 (Conv2D)            (None, 4, 4, 512)         2359808   \n",
            "_________________________________________________________________\n",
            "max_pooling2d_5 (MaxPooling2 (None, 2, 2, 512)         0         \n",
            "_________________________________________________________________\n",
            "flatten_1 (Flatten)          (None, 2048)              0         \n",
            "_________________________________________________________________\n",
            "dense_1 (Dense)              (None, 2000)              4098000   \n",
            "_________________________________________________________________\n",
            "dropout_1 (Dropout)          (None, 2000)              0         \n",
            "_________________________________________________________________\n",
            "dense_2 (Dense)              (None, 1000)              2001000   \n",
            "_________________________________________________________________\n",
            "dropout_2 (Dropout)          (None, 1000)              0         \n",
            "_________________________________________________________________\n",
            "dense_3 (Dense)              (None, 10)                10010     \n",
            "=================================================================\n",
            "Total params: 10,018,642\n",
            "Trainable params: 10,018,642\n",
            "Non-trainable params: 0\n",
            "_________________________________________________________________\n"
          ],
          "name": "stdout"
        }
      ]
    },
    {
      "cell_type": "code",
      "metadata": {
        "id": "GqdFtMBOqbLw"
      },
      "source": [
        "from keras.preprocessing.image import ImageDataGenerator\n",
        "\n",
        "datagen = ImageDataGenerator(rotation_range=5, width_shift_range=0.2, height_shift_range=0.2,  zoom_range=0.2)\n",
        "\n",
        "datagen.fit(X_train)"
      ],
      "execution_count": null,
      "outputs": []
    },
    {
      "cell_type": "code",
      "metadata": {
        "id": "r3S8RdrR0ONa",
        "colab": {
          "base_uri": "https://localhost:8080/",
          "height": 697
        },
        "outputId": "d9ab1158-181c-4ac9-a33a-bcd9a3294583"
      },
      "source": [
        "history= model.fit(datagen.flow(X_train, y_train,batch_size=250),validation_data=(X_test, y_test),epochs=20)"
      ],
      "execution_count": null,
      "outputs": [
        {
          "output_type": "stream",
          "text": [
            "Epoch 1/20\n",
            "231/231 [==============================] - 60s 261ms/step - loss: 1.4064 - accuracy: 0.4711 - val_loss: 0.1886 - val_accuracy: 0.9442\n",
            "Epoch 2/20\n",
            "231/231 [==============================] - 50s 218ms/step - loss: 0.1846 - accuracy: 0.9414 - val_loss: 0.0955 - val_accuracy: 0.9718\n",
            "Epoch 3/20\n",
            "231/231 [==============================] - 50s 217ms/step - loss: 0.1191 - accuracy: 0.9636 - val_loss: 0.0817 - val_accuracy: 0.9750\n",
            "Epoch 4/20\n",
            "231/231 [==============================] - 50s 216ms/step - loss: 0.1054 - accuracy: 0.9678 - val_loss: 0.0642 - val_accuracy: 0.9808\n",
            "Epoch 5/20\n",
            "231/231 [==============================] - 50s 215ms/step - loss: 0.0856 - accuracy: 0.9734 - val_loss: 0.0598 - val_accuracy: 0.9840\n",
            "Epoch 6/20\n",
            "231/231 [==============================] - 50s 217ms/step - loss: 0.0778 - accuracy: 0.9767 - val_loss: 0.0556 - val_accuracy: 0.9851\n",
            "Epoch 7/20\n",
            "231/231 [==============================] - 50s 217ms/step - loss: 0.0734 - accuracy: 0.9777 - val_loss: 0.0490 - val_accuracy: 0.9868\n",
            "Epoch 8/20\n",
            "231/231 [==============================] - 50s 217ms/step - loss: 0.0688 - accuracy: 0.9793 - val_loss: 0.0537 - val_accuracy: 0.9861\n",
            "Epoch 9/20\n",
            "231/231 [==============================] - 50s 216ms/step - loss: 0.0642 - accuracy: 0.9807 - val_loss: 0.0459 - val_accuracy: 0.9874\n",
            "Epoch 10/20\n",
            "231/231 [==============================] - 50s 216ms/step - loss: 0.0615 - accuracy: 0.9817 - val_loss: 0.0533 - val_accuracy: 0.9865\n",
            "Epoch 11/20\n",
            "231/231 [==============================] - 50s 217ms/step - loss: 0.0589 - accuracy: 0.9827 - val_loss: 0.0498 - val_accuracy: 0.9876\n",
            "Epoch 12/20\n",
            "231/231 [==============================] - 50s 217ms/step - loss: 0.0541 - accuracy: 0.9838 - val_loss: 0.0423 - val_accuracy: 0.9897\n",
            "Epoch 13/20\n",
            "231/231 [==============================] - 50s 217ms/step - loss: 0.0590 - accuracy: 0.9826 - val_loss: 0.0433 - val_accuracy: 0.9899\n",
            "Epoch 14/20\n",
            "231/231 [==============================] - 50s 217ms/step - loss: 0.0521 - accuracy: 0.9840 - val_loss: 0.0397 - val_accuracy: 0.9905\n",
            "Epoch 15/20\n",
            "231/231 [==============================] - 50s 218ms/step - loss: 0.0532 - accuracy: 0.9842 - val_loss: 0.0607 - val_accuracy: 0.9849\n",
            "Epoch 16/20\n",
            "231/231 [==============================] - 50s 217ms/step - loss: 0.0545 - accuracy: 0.9838 - val_loss: 0.0457 - val_accuracy: 0.9876\n",
            "Epoch 17/20\n",
            "231/231 [==============================] - 50s 218ms/step - loss: 0.0509 - accuracy: 0.9845 - val_loss: 0.0453 - val_accuracy: 0.9877\n",
            "Epoch 18/20\n",
            "231/231 [==============================] - 50s 218ms/step - loss: 0.0502 - accuracy: 0.9854 - val_loss: 0.0401 - val_accuracy: 0.9912\n",
            "Epoch 19/20\n",
            "231/231 [==============================] - 50s 218ms/step - loss: 0.0461 - accuracy: 0.9862 - val_loss: 0.0441 - val_accuracy: 0.9882\n",
            "Epoch 20/20\n",
            "231/231 [==============================] - 50s 217ms/step - loss: 0.0438 - accuracy: 0.9873 - val_loss: 0.0514 - val_accuracy: 0.9883\n"
          ],
          "name": "stdout"
        }
      ]
    },
    {
      "cell_type": "code",
      "metadata": {
        "id": "BSTHZ_AfzhKb",
        "colab": {
          "base_uri": "https://localhost:8080/",
          "height": 573
        },
        "outputId": "0d634dca-47a8-4e7b-bb54-3a9c6a130388"
      },
      "source": [
        "import matplotlib.pyplot as plt\n",
        "\n",
        "plt.plot(history.history['loss'])\n",
        "plt.plot(history.history['val_loss'])\n",
        "plt.title('Model loss')\n",
        "plt.ylabel('Loss')\n",
        "plt.xlabel('Epoch')\n",
        "plt.legend(['Train', 'Test'], loc='upper left')\n",
        "plt.show()\n",
        "\n",
        "plt.plot(history.history['accuracy'])\n",
        "plt.plot(history.history['val_accuracy'])\n",
        "plt.title('Model accc')\n",
        "plt.ylabel('acc')\n",
        "plt.xlabel('Epoch')\n",
        "plt.legend(['Train', 'Test'], loc='upper left')\n",
        "plt.show()"
      ],
      "execution_count": null,
      "outputs": [
        {
          "output_type": "display_data",
          "data": {
            "image/png": "[encoded data removed]",
            "text/plain": [
              "<Figure size 432x288 with 1 Axes>"
            ]
          },
          "metadata": {
            "tags": [],
            "needs_background": "light"
          }
        },
        {
          "output_type": "display_data",
          "data": {
            "image/png": "[encoded data removed]",
            "text/plain": [
              "<Figure size 432x288 with 1 Axes>"
            ]
          },
          "metadata": {
            "tags": [],
            "needs_background": "light"
          }
        }
      ]
    },
    {
      "cell_type": "code",
      "metadata": {
        "id": "dCYAvJc-k_J0"
      },
      "source": [
        "model.save_weights('NamtaDB_model_weight.h5')"
      ],
      "execution_count": null,
      "outputs": []
    },
    {
      "cell_type": "code",
      "metadata": {
        "id": "HcnsjPrIQzyr"
      },
      "source": [
        "model.save('NamtaDB_model.h5')"
      ],
      "execution_count": null,
      "outputs": []
    },
    {
      "cell_type": "code",
      "metadata": {
        "id": "C7VFCkvZ7joM"
      },
      "source": [
        "import cv2\n",
        "\n",
        "all_img = []\n",
        "for i in range(0,10):\n",
        "  img1 = cv2.imread(str(i)+'.png',0)\n",
        "  (thresh, im_bw) = cv2.threshold(img1, 128, 255, cv2.THRESH_BINARY | cv2.THRESH_OTSU)\n",
        "  inv = cv2.bitwise_not(im_bw)\n",
        "  all_img.append(cv2.resize(inv, (64,64)))"
      ],
      "execution_count": null,
      "outputs": []
    },
    {
      "cell_type": "code",
      "metadata": {
        "id": "_UIpnJ9M9Aps"
      },
      "source": [
        "all_img = np.array(all_img)"
      ],
      "execution_count": null,
      "outputs": []
    },
    {
      "cell_type": "code",
      "metadata": {
        "id": "v6sqQXbk9KHF",
        "colab": {
          "base_uri": "https://localhost:8080/",
          "height": 240
        },
        "outputId": "df2864ac-6b4a-49bf-9380-ed7e81fb502f"
      },
      "source": [
        "for i in range(1,11):\n",
        "  plt.subplot(2,5,i)\n",
        "  plt.imshow(all_img[i-1])\n",
        "  plt.title(np.argmax(model.predict(np.reshape(all_img[i-1],(-1,64,64,1)))))\n"
      ],
      "execution_count": null,
      "outputs": [
        {
          "output_type": "display_data",
          "data": {
            "image/png": "[encoded data removed]",
            "text/plain": [
              "<Figure size 432x288 with 10 Axes>"
            ]
          },
          "metadata": {
            "tags": [],
            "needs_background": "light"
          }
        }
      ]
    },
    {
      "cell_type": "code",
      "metadata": {
        "id": "9-eD1jnRf1o9"
      },
      "source": [
        "def segment(image, height=64):\n",
        "    gray = cv2.cvtColor(image, cv2.COLOR_BGR2GRAY)\n",
        "    gray = cv2.GaussianBlur(gray, (7, 7), 0)\n",
        " \n",
        "    # threshold the image\n",
        "    ret,thresh1 = cv2.threshold(gray ,100,255,cv2.THRESH_BINARY_INV)\n",
        " \n",
        "    # dilate the white portions\n",
        "    dilate = cv2.dilate(thresh1, None, iterations=2)\n",
        " \n",
        "    # find contours in the image\n",
        "    cnts = cv2.findContours(dilate.copy(), cv2.RETR_EXTERNAL,\n",
        "        cv2.CHAIN_APPROX_SIMPLE)\n",
        "    cnts = cnts[1] if imutils.is_cv2() else cnts[0]\n",
        " \n",
        "    orig = image.copy()\n",
        "    i = 0\n",
        "    t = 0\n",
        "    c=0\n",
        "    x_all = []\n",
        "    w_all = []\n",
        "    lines = []\n",
        "    parts = []\n",
        " \n",
        "    for cnt in cnts:\n",
        "        # Check the area of contour, if it is very small ignore it\n",
        "        if(cv2.contourArea(cnt) < 100):\n",
        "            continue\n",
        " \n",
        "        # Filtered countours are detected\n",
        "        x,y,w,h = cv2.boundingRect(cnt)\n",
        "        x_all.append(x)\n",
        "        w_all.append(w)\n",
        "        i = i + 1\n",
        " \n",
        "    comb = np.zeros((2,len(x_all)))\n",
        "    comb[0,:]=x_all\n",
        "    comb[1,:]=w_all\n",
        "    comb = comb.T\n",
        "    comb = comb[comb[:,0].argsort()]\n",
        " \n",
        "    x_all = comb[:,0]\n",
        "    w_all = comb[:,1]\n",
        " \n",
        " \n",
        "    for i, item in enumerate (x_all):\n",
        "        if i < len(x_all)-1:\n",
        "            lines.append((item+w_all[i]+x_all[i+1])/2)\n",
        " \n",
        " \n",
        "    for i in range(len(lines)):\n",
        "        parts.append(cv2.resize(image[:,t:int(lines[i]),:],(height,height)))\n",
        "        t = int(lines[i])\n",
        "        if i == len(lines)-1:\n",
        "            parts.append(cv2.resize(image[:,t:,:],(height,height)))\n",
        "   \n",
        "    return parts"
      ],
      "execution_count": null,
      "outputs": []
    },
    {
      "cell_type": "code",
      "metadata": {
        "id": "AghKtEVnR4xF",
        "colab": {
          "base_uri": "https://localhost:8080/",
          "height": 99
        },
        "outputId": "c7b42d7f-d6e8-47c4-ba07-a60e1d7c8704"
      },
      "source": [
        "import cv2\n",
        "import imutils\n",
        "\n",
        "\n",
        "image = cv2.imread('/content/test.png')\n",
        "output = segment(image,64)\n",
        "\n",
        "\n",
        "for i in range(1,6):\n",
        "    plt.subplot(2,6,i)\n",
        "    plt.imshow(output[i-1])"
      ],
      "execution_count": null,
      "outputs": [
        {
          "output_type": "display_data",
          "data": {
            "image/png": "[encoded data removed]",
            "text/plain": [
              "<Figure size 432x288 with 5 Axes>"
            ]
          },
          "metadata": {
            "tags": [],
            "needs_background": "light"
          }
        }
      ]
    },
    {
      "cell_type": "code",
      "metadata": {
        "id": "G27g8-Q5hXep",
        "colab": {
          "base_uri": "https://localhost:8080/",
          "height": 34
        },
        "outputId": "fe489b2a-6090-4bb9-b604-342eca945886"
      },
      "source": [
        "img_ar = np.array(output)\n",
        "\n",
        "img_ar.shape"
      ],
      "execution_count": null,
      "outputs": [
        {
          "output_type": "execute_result",
          "data": {
            "text/plain": [
              "(5, 64, 64, 3)"
            ]
          },
          "metadata": {
            "tags": []
          },
          "execution_count": 126
        }
      ]
    },
    {
      "cell_type": "code",
      "metadata": {
        "id": "uf58Vg1_SgmL",
        "colab": {
          "base_uri": "https://localhost:8080/",
          "height": 268
        },
        "outputId": "c8be0553-6f45-46e5-9c00-912e4e47daef"
      },
      "source": [
        "all=[]\n",
        "\n",
        "for j in range(len(output)):\n",
        "    \n",
        "    img= cv2.imwrite(str(j)+'.png',img_ar[j])\n",
        "    img=cv2.imread(str(j)+'.png',0)\n",
        "    gray = cv2.GaussianBlur(img, (7, 7), 0)\n",
        "    (thresh, im_bw) = cv2.threshold(gray, 100, 255, cv2.THRESH_BINARY | cv2.THRESH_OTSU)\n",
        "    inv = cv2.bitwise_not(im_bw)\n",
        "    dilation = cv2.dilate(inv,None,iterations = 1)\n",
        "    img_r=cv2.resize(dilation, (64,64))\n",
        "    \n",
        "    \n",
        "    all.append(img_r)\n",
        "    plt.imshow(img_r)"
      ],
      "execution_count": null,
      "outputs": [
        {
          "output_type": "display_data",
          "data": {
            "image/png": "[encoded data removed]",
            "text/plain": [
              "<Figure size 432x288 with 1 Axes>"
            ]
          },
          "metadata": {
            "tags": [],
            "needs_background": "light"
          }
        }
      ]
    },
    {
      "cell_type": "code",
      "metadata": {
        "id": "nnzjw2ZbThmc",
        "colab": {
          "base_uri": "https://localhost:8080/",
          "height": 34
        },
        "outputId": "655d6117-dfcf-449c-c819-8029d95ba223"
      },
      "source": [
        "all_image=np.array(all)\n",
        "\n",
        "all_image.shape"
      ],
      "execution_count": null,
      "outputs": [
        {
          "output_type": "execute_result",
          "data": {
            "text/plain": [
              "(5, 64, 64)"
            ]
          },
          "metadata": {
            "tags": []
          },
          "execution_count": 128
        }
      ]
    },
    {
      "cell_type": "code",
      "metadata": {
        "id": "xLmpAGe3yywY",
        "colab": {
          "base_uri": "https://localhost:8080/",
          "height": 172
        },
        "outputId": "e12a31ca-b045-484e-9c4a-181b5821be04"
      },
      "source": [
        "Image=np.concatenate((output), axis=1)\n",
        "x=\"\"\n",
        "for m in range(len(output)):\n",
        "    x=x+(str(np.argmax(model.predict(np.reshape(all_image[m],(-1,64,64,1))))))\n",
        "\n",
        "plt.imshow(image)\n",
        "plt.title(x)"
      ],
      "execution_count": null,
      "outputs": [
        {
          "output_type": "execute_result",
          "data": {
            "text/plain": [
              "Text(0.5, 1.0, '19568')"
            ]
          },
          "metadata": {
            "tags": []
          },
          "execution_count": 131
        },
        {
          "output_type": "display_data",
          "data": {
            "image/png": "[encoded data removed]",
            "text/plain": [
              "<Figure size 432x288 with 1 Axes>"
            ]
          },
          "metadata": {
            "tags": [],
            "needs_background": "light"
          }
        }
      ]
    },
    {
      "cell_type": "code",
      "metadata": {
        "id": "-ChPHjQNzscJ"
      },
      "source": [
        ""
      ],
      "execution_count": null,
      "outputs": []
    }
  ]
}