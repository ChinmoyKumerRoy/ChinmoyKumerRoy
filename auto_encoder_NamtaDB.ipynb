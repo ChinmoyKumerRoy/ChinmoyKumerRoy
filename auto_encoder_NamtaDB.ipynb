{
  "nbformat": 4,
  "nbformat_minor": 0,
  "metadata": {
    "colab": {
      "name": "auto encoder_NamtaDB.ipynb",
      "provenance": [],
      "collapsed_sections": [],
      "mount_file_id": "17kKKK9taf5tYFUAjJF4PoX3uecMbE_6u",
      "authorship_tag": "ABX9TyO1iP3Uhtx4nJaRLD3Rrka3",
      "include_colab_link": true
    },
    "kernelspec": {
      "name": "python3",
      "display_name": "Python 3"
    },
    "accelerator": "GPU"
  },
  "cells": [
    {
      "cell_type": "markdown",
      "metadata": {
        "id": "view-in-github",
        "colab_type": "text"
      },
      "source": [
        "<a href=\"https://colab.research.google.com/github/ChinmoyKumerRoy/ChinmoyKumerRoy/blob/main/auto_encoder_NamtaDB.ipynb\" target=\"_parent\"><img src=\"https://colab.research.google.com/assets/colab-badge.svg\" alt=\"Open In Colab\"/></a>"
      ]
    },
    {
      "cell_type": "code",
      "metadata": {
        "id": "MMDaOTIePXDC"
      },
      "source": [
        "import matplotlib.pyplot as plt\n",
        "from sklearn.linear_model import LogisticRegression\n",
        "from sklearn.metrics import classification_report\n",
        "from sklearn.metrics import accuracy_score\n",
        "from sklearn.model_selection import train_test_split\n",
        "import pandas as pd\n",
        "import numpy as np  "
      ],
      "execution_count": null,
      "outputs": []
    },
    {
      "cell_type": "code",
      "metadata": {
        "id": "ACIF5rRzPaVw"
      },
      "source": [
        "x = np.load('/content/drive/My Drive/Colab Notebooks/LICT/NamtaDB_64_npy/NamtaDB_64_x.npy')/255"
      ],
      "execution_count": null,
      "outputs": []
    },
    {
      "cell_type": "code",
      "metadata": {
        "id": "FfJflGnjP1Sy",
        "colab": {
          "base_uri": "https://localhost:8080/",
          "height": 34
        },
        "outputId": "762baa06-160b-4704-bb18-d82d818880f2"
      },
      "source": [
        "x.shape"
      ],
      "execution_count": null,
      "outputs": [
        {
          "output_type": "execute_result",
          "data": {
            "text/plain": [
              "(72045, 64, 64)"
            ]
          },
          "metadata": {
            "tags": []
          },
          "execution_count": 33
        }
      ]
    },
    {
      "cell_type": "code",
      "metadata": {
        "id": "04-TTP0yiMnW"
      },
      "source": [
        "x_reshape = x.reshape(-1,64,64,1)"
      ],
      "execution_count": null,
      "outputs": []
    },
    {
      "cell_type": "code",
      "metadata": {
        "id": "LNFXr0L45Oll",
        "colab": {
          "base_uri": "https://localhost:8080/",
          "height": 34
        },
        "outputId": "6e74a859-b3ff-40c2-b8de-666ec77fd5ca"
      },
      "source": [
        "x_reshape.shape"
      ],
      "execution_count": null,
      "outputs": [
        {
          "output_type": "execute_result",
          "data": {
            "text/plain": [
              "(72045, 64, 64, 1)"
            ]
          },
          "metadata": {
            "tags": []
          },
          "execution_count": 35
        }
      ]
    },
    {
      "cell_type": "code",
      "metadata": {
        "id": "-DPMLveoineq"
      },
      "source": [
        "from keras.models import Sequential\n",
        "from keras.layers import Dense, Conv2D, MaxPooling2D, Conv2DTranspose, UpSampling2D, Flatten, Dropout\n",
        "\n",
        "model = Sequential()\n",
        "    \n",
        "    \n",
        "    \n",
        "model.add(Conv2D(64, (3, 3), padding='same', activation='relu', input_shape=(64,64,1)))\n",
        "model.add(MaxPooling2D((2,2)))\n",
        "model.add(Conv2D(128, (3, 3), padding='same', activation='relu'))\n",
        "model.add(MaxPooling2D((2,2)))\n",
        "model.add(Conv2D(256, (3, 3), padding='same', activation='relu'))\n",
        "model.add(MaxPooling2D((2,2)))\n",
        "model.add(Conv2D(512, (3, 3), padding='same', activation='relu'))\n",
        "model.add(MaxPooling2D((2,2)))  \n",
        "model.add(Conv2D(512, (3, 3), padding='same', activation='relu'))\n",
        "model.add(MaxPooling2D((2,2)))\n",
        "\n",
        "\n",
        "model.add(Conv2DTranspose(512, (3, 3), padding='same', activation='relu'))\n",
        "model.add(UpSampling2D((2,2)))\n",
        "model.add(Conv2DTranspose(512, (3, 3), padding='same', activation='relu'))\n",
        "model.add(UpSampling2D((2,2)))\n",
        "model.add(Conv2DTranspose(256, (3, 3), padding='same', activation='relu'))\n",
        "model.add(UpSampling2D((2,2)))  \n",
        "model.add(Conv2DTranspose(128, (3, 3), padding='same', activation='relu'))\n",
        "model.add(UpSampling2D((2,2)))\n",
        "model.add(Conv2DTranspose(64, (3, 3), padding='same', activation='relu'))\n",
        "model.add(UpSampling2D((2,2)))\n",
        "model.add(Conv2DTranspose(1, (3, 3), padding='same', activation='relu'))\n",
        "\n",
        "model.compile(loss='mse', optimizer='adam')"
      ],
      "execution_count": null,
      "outputs": []
    },
    {
      "cell_type": "code",
      "metadata": {
        "id": "nsahBhT5rT_R",
        "colab": {
          "base_uri": "https://localhost:8080/",
          "height": 867
        },
        "outputId": "dff6d009-06fc-4335-d27d-c9ab2d210184"
      },
      "source": [
        "model.summary()"
      ],
      "execution_count": null,
      "outputs": [
        {
          "output_type": "stream",
          "text": [
            "Model: \"sequential_10\"\n",
            "_________________________________________________________________\n",
            "Layer (type)                 Output Shape              Param #   \n",
            "=================================================================\n",
            "conv2d_42 (Conv2D)           (None, 64, 64, 64)        640       \n",
            "_________________________________________________________________\n",
            "max_pooling2d_41 (MaxPooling (None, 32, 32, 64)        0         \n",
            "_________________________________________________________________\n",
            "conv2d_43 (Conv2D)           (None, 32, 32, 128)       73856     \n",
            "_________________________________________________________________\n",
            "max_pooling2d_42 (MaxPooling (None, 16, 16, 128)       0         \n",
            "_________________________________________________________________\n",
            "conv2d_44 (Conv2D)           (None, 16, 16, 256)       295168    \n",
            "_________________________________________________________________\n",
            "max_pooling2d_43 (MaxPooling (None, 8, 8, 256)         0         \n",
            "_________________________________________________________________\n",
            "conv2d_45 (Conv2D)           (None, 8, 8, 512)         1180160   \n",
            "_________________________________________________________________\n",
            "max_pooling2d_44 (MaxPooling (None, 4, 4, 512)         0         \n",
            "_________________________________________________________________\n",
            "conv2d_46 (Conv2D)           (None, 4, 4, 512)         2359808   \n",
            "_________________________________________________________________\n",
            "max_pooling2d_45 (MaxPooling (None, 2, 2, 512)         0         \n",
            "_________________________________________________________________\n",
            "conv2d_transpose_38 (Conv2DT (None, 2, 2, 512)         2359808   \n",
            "_________________________________________________________________\n",
            "up_sampling2d_36 (UpSampling (None, 4, 4, 512)         0         \n",
            "_________________________________________________________________\n",
            "conv2d_transpose_39 (Conv2DT (None, 4, 4, 512)         2359808   \n",
            "_________________________________________________________________\n",
            "up_sampling2d_37 (UpSampling (None, 8, 8, 512)         0         \n",
            "_________________________________________________________________\n",
            "conv2d_transpose_40 (Conv2DT (None, 8, 8, 256)         1179904   \n",
            "_________________________________________________________________\n",
            "up_sampling2d_38 (UpSampling (None, 16, 16, 256)       0         \n",
            "_________________________________________________________________\n",
            "conv2d_transpose_41 (Conv2DT (None, 16, 16, 128)       295040    \n",
            "_________________________________________________________________\n",
            "up_sampling2d_39 (UpSampling (None, 32, 32, 128)       0         \n",
            "_________________________________________________________________\n",
            "conv2d_transpose_42 (Conv2DT (None, 32, 32, 64)        73792     \n",
            "_________________________________________________________________\n",
            "up_sampling2d_40 (UpSampling (None, 64, 64, 64)        0         \n",
            "_________________________________________________________________\n",
            "conv2d_transpose_43 (Conv2DT (None, 64, 64, 1)         577       \n",
            "=================================================================\n",
            "Total params: 10,178,561\n",
            "Trainable params: 10,178,561\n",
            "Non-trainable params: 0\n",
            "_________________________________________________________________\n"
          ],
          "name": "stdout"
        }
      ]
    },
    {
      "cell_type": "code",
      "metadata": {
        "id": "ooVa37jlRNQW",
        "colab": {
          "base_uri": "https://localhost:8080/",
          "height": 697
        },
        "outputId": "dd775f16-ac95-4328-b105-8fb2a9de9abb"
      },
      "source": [
        "history = model.fit(x_reshape, x_reshape, batch_size=250, epochs=20)"
      ],
      "execution_count": null,
      "outputs": [
        {
          "output_type": "stream",
          "text": [
            "Epoch 1/20\n",
            "72045/72045 [==============================] - 61s 843us/step - loss: 0.1368\n",
            "Epoch 2/20\n",
            "72045/72045 [==============================] - 51s 706us/step - loss: 0.0216\n",
            "Epoch 3/20\n",
            "72045/72045 [==============================] - 51s 704us/step - loss: 0.0160\n",
            "Epoch 4/20\n",
            "72045/72045 [==============================] - 51s 708us/step - loss: 0.0139\n",
            "Epoch 5/20\n",
            "72045/72045 [==============================] - 51s 707us/step - loss: 0.0128\n",
            "Epoch 6/20\n",
            "72045/72045 [==============================] - 51s 707us/step - loss: 0.0120\n",
            "Epoch 7/20\n",
            "72045/72045 [==============================] - 51s 707us/step - loss: 0.0113\n",
            "Epoch 8/20\n",
            "72045/72045 [==============================] - 51s 708us/step - loss: 0.0107\n",
            "Epoch 9/20\n",
            "72045/72045 [==============================] - 51s 707us/step - loss: 0.0102\n",
            "Epoch 10/20\n",
            "72045/72045 [==============================] - 51s 709us/step - loss: 0.0097\n",
            "Epoch 11/20\n",
            "72045/72045 [==============================] - 51s 708us/step - loss: 0.0094\n",
            "Epoch 12/20\n",
            "72045/72045 [==============================] - 51s 709us/step - loss: 0.0091\n",
            "Epoch 13/20\n",
            "72045/72045 [==============================] - 51s 708us/step - loss: 0.0087\n",
            "Epoch 14/20\n",
            "72045/72045 [==============================] - 51s 708us/step - loss: 0.0084\n",
            "Epoch 15/20\n",
            "72045/72045 [==============================] - 51s 707us/step - loss: 0.0081\n",
            "Epoch 16/20\n",
            "72045/72045 [==============================] - 51s 709us/step - loss: 0.0078\n",
            "Epoch 17/20\n",
            "72045/72045 [==============================] - 51s 707us/step - loss: 0.0076\n",
            "Epoch 18/20\n",
            "72045/72045 [==============================] - 51s 708us/step - loss: 0.0073\n",
            "Epoch 19/20\n",
            "72045/72045 [==============================] - 51s 708us/step - loss: 0.0072\n",
            "Epoch 20/20\n",
            "72045/72045 [==============================] - 51s 708us/step - loss: 0.0069\n"
          ],
          "name": "stdout"
        }
      ]
    },
    {
      "cell_type": "code",
      "metadata": {
        "id": "S2SmfaZDRRhk",
        "colab": {
          "base_uri": "https://localhost:8080/",
          "height": 233
        },
        "outputId": "144ded4f-8e5e-4e0a-e08f-4e2875c76833"
      },
      "source": [
        "import cv2\n",
        "img = cv2.imread('/content/4.png',0)\n",
        "img = cv2.resize(img, (64,64))\n",
        "pred = model.predict(img.reshape(1,64,64,1))\n",
        "\n",
        "plt.subplot(121)\n",
        "plt.imshow(img.reshape(64,64), cmap='gray')\n",
        "plt.title('original')\n",
        "\n",
        "plt.subplot(122)\n",
        "plt.imshow(pred.reshape(64,64), cmap='gray')\n",
        "plt.title('generated')"
      ],
      "execution_count": null,
      "outputs": [
        {
          "output_type": "execute_result",
          "data": {
            "text/plain": [
              "Text(0.5, 1.0, 'generated')"
            ]
          },
          "metadata": {
            "tags": []
          },
          "execution_count": 62
        },
        {
          "output_type": "display_data",
          "data": {
            "image/png": "[encoded data removed]",
            "text/plain": [
              "<Figure size 432x288 with 2 Axes>"
            ]
          },
          "metadata": {
            "tags": [],
            "needs_background": "light"
          }
        }
      ]
    },
    {
      "cell_type": "code",
      "metadata": {
        "id": "fI6fxcE7DOdv"
      },
      "source": [
        ""
      ],
      "execution_count": null,
      "outputs": []
    }
  ]
}