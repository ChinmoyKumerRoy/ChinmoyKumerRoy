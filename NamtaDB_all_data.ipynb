{
  "nbformat": 4,
  "nbformat_minor": 0,
  "metadata": {
    "colab": {
      "name": "NamtaDB_all_data.ipynb",
      "provenance": [],
      "collapsed_sections": [],
      "mount_file_id": "12DdkSD6gDN6yIy5VTGbDV3-iQ9kG1LAk",
      "authorship_tag": "ABX9TyNnPymDf3BzL6PKcwH1uSPn",
      "include_colab_link": true
    },
    "kernelspec": {
      "name": "python3",
      "display_name": "Python 3"
    },
    "accelerator": "GPU"
  },
  "cells": [
    {
      "cell_type": "markdown",
      "metadata": {
        "id": "view-in-github",
        "colab_type": "text"
      },
      "source": [
        "<a href=\"https://colab.research.google.com/github/ChinmoyKumerRoy/ChinmoyKumerRoy/blob/main/NamtaDB_all_data.ipynb\" target=\"_parent\"><img src=\"https://colab.research.google.com/assets/colab-badge.svg\" alt=\"Open In Colab\"/></a>"
      ]
    },
    {
      "cell_type": "code",
      "metadata": {
        "id": "8rVIa9u9tHbe"
      },
      "source": [
        "import numpy as np\n",
        "import cv2"
      ],
      "execution_count": null,
      "outputs": []
    },
    {
      "cell_type": "code",
      "metadata": {
        "id": "uMaGca0DySf9"
      },
      "source": [
        "x = np.load('/content/drive/My Drive/Colab Notebooks/LICT/NamtaDB_x.npy')/255\n",
        "y = np.load('/content/drive/My Drive/Colab Notebooks/LICT/NamtaDB_y.npy')"
      ],
      "execution_count": null,
      "outputs": []
    },
    {
      "cell_type": "code",
      "metadata": {
        "id": "qAfM_Q5jydyM"
      },
      "source": [
        "x = x.reshape(-1,28,28,1)\n",
        "from keras.utils import to_categorical\n",
        "y = to_categorical(y)"
      ],
      "execution_count": null,
      "outputs": []
    },
    {
      "cell_type": "code",
      "metadata": {
        "id": "1MRO_R2fyqXU",
        "colab": {
          "base_uri": "https://localhost:8080/",
          "height": 34
        },
        "outputId": "18666391-c965-45f1-ecf1-9e7264d4feb7"
      },
      "source": [
        "y.shape"
      ],
      "execution_count": null,
      "outputs": [
        {
          "output_type": "execute_result",
          "data": {
            "text/plain": [
              "(72045, 10)"
            ]
          },
          "metadata": {
            "tags": []
          },
          "execution_count": 17
        }
      ]
    },
    {
      "cell_type": "code",
      "metadata": {
        "id": "ZP1TanxtyvCE",
        "colab": {
          "base_uri": "https://localhost:8080/",
          "height": 34
        },
        "outputId": "72b787a8-68fd-4cdb-8af1-7687edfc3156"
      },
      "source": [
        "x.shape"
      ],
      "execution_count": null,
      "outputs": [
        {
          "output_type": "execute_result",
          "data": {
            "text/plain": [
              "(72045, 28, 28, 1)"
            ]
          },
          "metadata": {
            "tags": []
          },
          "execution_count": 18
        }
      ]
    },
    {
      "cell_type": "code",
      "metadata": {
        "id": "UwnoRc_iyxQE"
      },
      "source": [
        "from keras import Sequential\n",
        "from keras.layers import Conv2D, MaxPooling2D, Flatten, Dropout, Dense"
      ],
      "execution_count": null,
      "outputs": []
    },
    {
      "cell_type": "code",
      "metadata": {
        "id": "t7oi0Z-qy0yT"
      },
      "source": [
        "model = Sequential()\n",
        "\n",
        "\n",
        "\n",
        "model.add(Conv2D(16, (5, 5), activation='relu', input_shape=(28, 28, 1)))\n",
        "model.add(Dropout(0.2))\n",
        "model.add(MaxPooling2D((2, 2)))\n",
        "model.add(Dense(32, activation='relu'))\n",
        "model.add(Dropout(0.2))\n",
        "model.add(MaxPooling2D((2, 2)))\n",
        "model.add(Dense(64, activation='relu'))\n",
        "model.add(Dropout(0.2))\n",
        "model.add(MaxPooling2D((2, 2)))\n",
        "\n",
        "model.add(Flatten())\n",
        "\n",
        "model.add(Dense(512, activation='relu'))\n",
        "model.add(Dropout(0.25))\n",
        "model.add(Dense(10, activation='softmax'))\n",
        "model.compile(optimizer='adam', loss='categorical_crossentropy', metrics=['accuracy'])"
      ],
      "execution_count": null,
      "outputs": []
    },
    {
      "cell_type": "code",
      "metadata": {
        "id": "0EPhrAaQzNqh",
        "colab": {
          "base_uri": "https://localhost:8080/",
          "height": 595
        },
        "outputId": "68842b26-3700-4396-b8b6-3c9b069af1df"
      },
      "source": [
        "model.summary()"
      ],
      "execution_count": null,
      "outputs": [
        {
          "output_type": "stream",
          "text": [
            "Model: \"sequential_2\"\n",
            "_________________________________________________________________\n",
            "Layer (type)                 Output Shape              Param #   \n",
            "=================================================================\n",
            "conv2d_2 (Conv2D)            (None, 24, 24, 16)        416       \n",
            "_________________________________________________________________\n",
            "dropout_5 (Dropout)          (None, 24, 24, 16)        0         \n",
            "_________________________________________________________________\n",
            "max_pooling2d_4 (MaxPooling2 (None, 12, 12, 16)        0         \n",
            "_________________________________________________________________\n",
            "dense_5 (Dense)              (None, 12, 12, 32)        544       \n",
            "_________________________________________________________________\n",
            "dropout_6 (Dropout)          (None, 12, 12, 32)        0         \n",
            "_________________________________________________________________\n",
            "max_pooling2d_5 (MaxPooling2 (None, 6, 6, 32)          0         \n",
            "_________________________________________________________________\n",
            "dense_6 (Dense)              (None, 6, 6, 64)          2112      \n",
            "_________________________________________________________________\n",
            "dropout_7 (Dropout)          (None, 6, 6, 64)          0         \n",
            "_________________________________________________________________\n",
            "max_pooling2d_6 (MaxPooling2 (None, 3, 3, 64)          0         \n",
            "_________________________________________________________________\n",
            "flatten_2 (Flatten)          (None, 576)               0         \n",
            "_________________________________________________________________\n",
            "dense_7 (Dense)              (None, 512)               295424    \n",
            "_________________________________________________________________\n",
            "dropout_8 (Dropout)          (None, 512)               0         \n",
            "_________________________________________________________________\n",
            "dense_8 (Dense)              (None, 10)                5130      \n",
            "=================================================================\n",
            "Total params: 303,626\n",
            "Trainable params: 303,626\n",
            "Non-trainable params: 0\n",
            "_________________________________________________________________\n"
          ],
          "name": "stdout"
        }
      ]
    },
    {
      "cell_type": "code",
      "metadata": {
        "id": "8QqDwqjjzTps",
        "colab": {
          "base_uri": "https://localhost:8080/",
          "height": 1000
        },
        "outputId": "42aa8413-828c-4f01-90c0-b62419cce6c9"
      },
      "source": [
        "history = model.fit(x,y, validation_split=0.2, epochs=50, batch_size=150)"
      ],
      "execution_count": null,
      "outputs": [
        {
          "output_type": "stream",
          "text": [
            "Train on 57636 samples, validate on 14409 samples\n",
            "Epoch 1/50\n",
            "57636/57636 [==============================] - 12s 204us/step - loss: 1.2430 - accuracy: 0.5697 - val_loss: 0.9036 - val_accuracy: 0.7736\n",
            "Epoch 2/50\n",
            "57636/57636 [==============================] - 6s 99us/step - loss: 0.6876 - accuracy: 0.7594 - val_loss: 0.6571 - val_accuracy: 0.8324\n",
            "Epoch 3/50\n",
            "57636/57636 [==============================] - 6s 98us/step - loss: 0.5534 - accuracy: 0.8064 - val_loss: 0.5505 - val_accuracy: 0.8529\n",
            "Epoch 4/50\n",
            "57636/57636 [==============================] - 6s 99us/step - loss: 0.4956 - accuracy: 0.8270 - val_loss: 0.4688 - val_accuracy: 0.8858\n",
            "Epoch 5/50\n",
            "57636/57636 [==============================] - 6s 98us/step - loss: 0.4561 - accuracy: 0.8404 - val_loss: 0.4083 - val_accuracy: 0.9051\n",
            "Epoch 6/50\n",
            "57636/57636 [==============================] - 6s 98us/step - loss: 0.4251 - accuracy: 0.8521 - val_loss: 0.3631 - val_accuracy: 0.9048\n",
            "Epoch 7/50\n",
            "57636/57636 [==============================] - 6s 97us/step - loss: 0.4061 - accuracy: 0.8588 - val_loss: 0.3705 - val_accuracy: 0.9130\n",
            "Epoch 8/50\n",
            "57636/57636 [==============================] - 6s 97us/step - loss: 0.3822 - accuracy: 0.8681 - val_loss: 0.3736 - val_accuracy: 0.9008\n",
            "Epoch 9/50\n",
            "57636/57636 [==============================] - 6s 97us/step - loss: 0.3694 - accuracy: 0.8716 - val_loss: 0.3416 - val_accuracy: 0.9160\n",
            "Epoch 10/50\n",
            "57636/57636 [==============================] - 6s 105us/step - loss: 0.3579 - accuracy: 0.8753 - val_loss: 0.3615 - val_accuracy: 0.9007\n",
            "Epoch 11/50\n",
            "57636/57636 [==============================] - 6s 101us/step - loss: 0.3444 - accuracy: 0.8811 - val_loss: 0.3407 - val_accuracy: 0.9092\n",
            "Epoch 12/50\n",
            "57636/57636 [==============================] - 6s 99us/step - loss: 0.3356 - accuracy: 0.8821 - val_loss: 0.3487 - val_accuracy: 0.8984\n",
            "Epoch 13/50\n",
            "57636/57636 [==============================] - 6s 99us/step - loss: 0.3234 - accuracy: 0.8876 - val_loss: 0.2836 - val_accuracy: 0.9223\n",
            "Epoch 14/50\n",
            "57636/57636 [==============================] - 6s 98us/step - loss: 0.3185 - accuracy: 0.8912 - val_loss: 0.2977 - val_accuracy: 0.9168\n",
            "Epoch 15/50\n",
            "57636/57636 [==============================] - 6s 96us/step - loss: 0.3068 - accuracy: 0.8933 - val_loss: 0.3027 - val_accuracy: 0.9037\n",
            "Epoch 16/50\n",
            "57636/57636 [==============================] - 6s 96us/step - loss: 0.3013 - accuracy: 0.8962 - val_loss: 0.2901 - val_accuracy: 0.9153\n",
            "Epoch 17/50\n",
            "57636/57636 [==============================] - 6s 98us/step - loss: 0.2939 - accuracy: 0.8978 - val_loss: 0.2656 - val_accuracy: 0.9256\n",
            "Epoch 18/50\n",
            "57636/57636 [==============================] - 6s 96us/step - loss: 0.2904 - accuracy: 0.8993 - val_loss: 0.2772 - val_accuracy: 0.9184\n",
            "Epoch 19/50\n",
            "57636/57636 [==============================] - 6s 97us/step - loss: 0.2826 - accuracy: 0.9021 - val_loss: 0.2597 - val_accuracy: 0.9264\n",
            "Epoch 20/50\n",
            "57636/57636 [==============================] - 6s 96us/step - loss: 0.2748 - accuracy: 0.9048 - val_loss: 0.2770 - val_accuracy: 0.9173\n",
            "Epoch 21/50\n",
            "57636/57636 [==============================] - 6s 96us/step - loss: 0.2741 - accuracy: 0.9040 - val_loss: 0.2743 - val_accuracy: 0.9173\n",
            "Epoch 22/50\n",
            "57636/57636 [==============================] - 6s 96us/step - loss: 0.2688 - accuracy: 0.9060 - val_loss: 0.2405 - val_accuracy: 0.9280\n",
            "Epoch 23/50\n",
            "57636/57636 [==============================] - 6s 97us/step - loss: 0.2656 - accuracy: 0.9077 - val_loss: 0.2574 - val_accuracy: 0.9224\n",
            "Epoch 24/50\n",
            "57636/57636 [==============================] - 6s 98us/step - loss: 0.2586 - accuracy: 0.9109 - val_loss: 0.2617 - val_accuracy: 0.9226\n",
            "Epoch 25/50\n",
            "57636/57636 [==============================] - 6s 96us/step - loss: 0.2565 - accuracy: 0.9111 - val_loss: 0.2511 - val_accuracy: 0.9263\n",
            "Epoch 26/50\n",
            "57636/57636 [==============================] - 6s 96us/step - loss: 0.2525 - accuracy: 0.9117 - val_loss: 0.2334 - val_accuracy: 0.9300\n",
            "Epoch 27/50\n",
            "57636/57636 [==============================] - 6s 96us/step - loss: 0.2450 - accuracy: 0.9144 - val_loss: 0.2517 - val_accuracy: 0.9259\n",
            "Epoch 28/50\n",
            "57636/57636 [==============================] - 6s 96us/step - loss: 0.2445 - accuracy: 0.9132 - val_loss: 0.2478 - val_accuracy: 0.9248\n",
            "Epoch 29/50\n",
            "57636/57636 [==============================] - 6s 96us/step - loss: 0.2437 - accuracy: 0.9154 - val_loss: 0.2528 - val_accuracy: 0.9213\n",
            "Epoch 30/50\n",
            "57636/57636 [==============================] - 6s 96us/step - loss: 0.2401 - accuracy: 0.9157 - val_loss: 0.2327 - val_accuracy: 0.9261\n",
            "Epoch 31/50\n",
            "57636/57636 [==============================] - 5s 95us/step - loss: 0.2367 - accuracy: 0.9165 - val_loss: 0.2478 - val_accuracy: 0.9216\n",
            "Epoch 32/50\n",
            "57636/57636 [==============================] - 5s 95us/step - loss: 0.2350 - accuracy: 0.9175 - val_loss: 0.2340 - val_accuracy: 0.9261\n",
            "Epoch 33/50\n",
            "57636/57636 [==============================] - 5s 95us/step - loss: 0.2278 - accuracy: 0.9200 - val_loss: 0.2507 - val_accuracy: 0.9203\n",
            "Epoch 34/50\n",
            "57636/57636 [==============================] - 5s 95us/step - loss: 0.2267 - accuracy: 0.9211 - val_loss: 0.2329 - val_accuracy: 0.9271\n",
            "Epoch 35/50\n",
            "57636/57636 [==============================] - 5s 95us/step - loss: 0.2256 - accuracy: 0.9200 - val_loss: 0.2271 - val_accuracy: 0.9291\n",
            "Epoch 36/50\n",
            "57636/57636 [==============================] - 6s 96us/step - loss: 0.2222 - accuracy: 0.9215 - val_loss: 0.2285 - val_accuracy: 0.9273\n",
            "Epoch 37/50\n",
            "57636/57636 [==============================] - 5s 95us/step - loss: 0.2205 - accuracy: 0.9228 - val_loss: 0.2316 - val_accuracy: 0.9264\n",
            "Epoch 38/50\n",
            "57636/57636 [==============================] - 6s 96us/step - loss: 0.2187 - accuracy: 0.9238 - val_loss: 0.2610 - val_accuracy: 0.9197\n",
            "Epoch 39/50\n",
            "57636/57636 [==============================] - 5s 95us/step - loss: 0.2167 - accuracy: 0.9229 - val_loss: 0.2557 - val_accuracy: 0.9185\n",
            "Epoch 40/50\n",
            "57636/57636 [==============================] - 5s 95us/step - loss: 0.2140 - accuracy: 0.9249 - val_loss: 0.2390 - val_accuracy: 0.9264\n",
            "Epoch 41/50\n",
            "57636/57636 [==============================] - 6s 96us/step - loss: 0.2120 - accuracy: 0.9259 - val_loss: 0.2332 - val_accuracy: 0.9298\n",
            "Epoch 42/50\n",
            "57636/57636 [==============================] - 6s 96us/step - loss: 0.2146 - accuracy: 0.9252 - val_loss: 0.2350 - val_accuracy: 0.9282\n",
            "Epoch 43/50\n",
            "57636/57636 [==============================] - 6s 96us/step - loss: 0.2055 - accuracy: 0.9275 - val_loss: 0.2309 - val_accuracy: 0.9288\n",
            "Epoch 44/50\n",
            "57636/57636 [==============================] - 6s 96us/step - loss: 0.2052 - accuracy: 0.9270 - val_loss: 0.2645 - val_accuracy: 0.9173\n",
            "Epoch 45/50\n",
            "57636/57636 [==============================] - 5s 95us/step - loss: 0.2068 - accuracy: 0.9274 - val_loss: 0.2398 - val_accuracy: 0.9259\n",
            "Epoch 46/50\n",
            "57636/57636 [==============================] - 6s 96us/step - loss: 0.2060 - accuracy: 0.9260 - val_loss: 0.2731 - val_accuracy: 0.9137\n",
            "Epoch 47/50\n",
            "57636/57636 [==============================] - 5s 95us/step - loss: 0.2065 - accuracy: 0.9278 - val_loss: 0.2585 - val_accuracy: 0.9180\n",
            "Epoch 48/50\n",
            "57636/57636 [==============================] - 6s 96us/step - loss: 0.2013 - accuracy: 0.9295 - val_loss: 0.2363 - val_accuracy: 0.9271\n",
            "Epoch 49/50\n",
            "57636/57636 [==============================] - 5s 95us/step - loss: 0.1990 - accuracy: 0.9293 - val_loss: 0.2250 - val_accuracy: 0.9307\n",
            "Epoch 50/50\n",
            "57636/57636 [==============================] - 6s 96us/step - loss: 0.1971 - accuracy: 0.9304 - val_loss: 0.2349 - val_accuracy: 0.9249\n"
          ],
          "name": "stdout"
        }
      ]
    },
    {
      "cell_type": "code",
      "metadata": {
        "id": "BSTHZ_AfzhKb",
        "colab": {
          "base_uri": "https://localhost:8080/",
          "height": 573
        },
        "outputId": "1dda35a4-9bd7-4f25-98c6-d7d3dd2ccac0"
      },
      "source": [
        "import matplotlib.pyplot as plt\n",
        "\n",
        "plt.plot(history.history['loss'])\n",
        "plt.plot(history.history['val_loss'])\n",
        "plt.title('Model loss')\n",
        "plt.ylabel('Loss')\n",
        "plt.xlabel('Epoch')\n",
        "plt.legend(['Train', 'Test'], loc='upper left')\n",
        "plt.show()\n",
        "\n",
        "plt.plot(history.history['accuracy'])\n",
        "plt.plot(history.history['val_accuracy'])\n",
        "plt.title('Model accc')\n",
        "plt.ylabel('acc')\n",
        "plt.xlabel('Epoch')\n",
        "plt.legend(['Train', 'Test'], loc='upper left')\n",
        "plt.show()"
      ],
      "execution_count": null,
      "outputs": [
        {
          "output_type": "display_data",
          "data": {
            "image/png": "[encoded data removed]",
            "text/plain": [
              "<Figure size 432x288 with 1 Axes>"
            ]
          },
          "metadata": {
            "tags": [],
            "needs_background": "light"
          }
        },
        {
          "output_type": "display_data",
          "data": {
            "image/png": "[encoded data removed]",
            "text/plain": [
              "<Figure size 432x288 with 1 Axes>"
            ]
          },
          "metadata": {
            "tags": [],
            "needs_background": "light"
          }
        }
      ]
    },
    {
      "cell_type": "code",
      "metadata": {
        "id": "dCYAvJc-k_J0"
      },
      "source": [
        "model.save_weights('NamtaDB_model.h5')"
      ],
      "execution_count": null,
      "outputs": []
    },
    {
      "cell_type": "code",
      "metadata": {
        "id": "C7VFCkvZ7joM"
      },
      "source": [
        "import cv2\n",
        "\n",
        "all_img = []\n",
        "for i in range(0,10):\n",
        "  img1 = cv2.imread(str(i)+'.png',0)\n",
        "  (thresh, im_bw) = cv2.threshold(img1, 128, 255, cv2.THRESH_BINARY | cv2.THRESH_OTSU)\n",
        "  inv = cv2.bitwise_not(im_bw)\n",
        "  all_img.append(cv2.resize(inv, (28,28)))"
      ],
      "execution_count": null,
      "outputs": []
    },
    {
      "cell_type": "code",
      "metadata": {
        "id": "_UIpnJ9M9Aps"
      },
      "source": [
        "all_img = np.array(all_img)"
      ],
      "execution_count": null,
      "outputs": []
    },
    {
      "cell_type": "code",
      "metadata": {
        "id": "v6sqQXbk9KHF",
        "colab": {
          "base_uri": "https://localhost:8080/",
          "height": 240
        },
        "outputId": "85d201c5-3551-4a1e-a757-b56fe5ce512f"
      },
      "source": [
        "for i in range(1,11):\n",
        "  plt.subplot(2,5,i)\n",
        "  plt.imshow(all_img[i-1])\n",
        "  plt.title(np.argmax(model.predict(np.reshape(all_img[i-1],(-1,28,28,1)))))\n"
      ],
      "execution_count": null,
      "outputs": [
        {
          "output_type": "display_data",
          "data": {
            "image/png": "[encoded data removed]",
            "text/plain": [
              "<Figure size 432x288 with 10 Axes>"
            ]
          },
          "metadata": {
            "tags": [],
            "needs_background": "light"
          }
        }
      ]
    },
    {
      "cell_type": "code",
      "metadata": {
        "id": "9-eD1jnRf1o9"
      },
      "source": [
        ""
      ],
      "execution_count": null,
      "outputs": []
    }
  ]
}