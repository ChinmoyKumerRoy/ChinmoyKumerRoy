{
  "nbformat": 4,
  "nbformat_minor": 0,
  "metadata": {
    "colab": {
      "name": "NamtaDB_all_data.ipynb",
      "provenance": [],
      "collapsed_sections": [],
      "mount_file_id": "1DKGQ7hUKXpLy2dyDz_8B2QU3F-StazB_",
      "authorship_tag": "ABX9TyNJfF6vzg9XnT5medJWmg8W",
      "include_colab_link": true
    },
    "kernelspec": {
      "name": "python3",
      "display_name": "Python 3"
    },
    "accelerator": "GPU"
  },
  "cells": [
    {
      "cell_type": "markdown",
      "metadata": {
        "id": "view-in-github",
        "colab_type": "text"
      },
      "source": [
        "<a href=\"https://colab.research.google.com/github/ChinmoyKumerRoy/ChinmoyKumerRoy/blob/main/NamtaDB_all_data.ipynb\" target=\"_parent\"><img src=\"https://colab.research.google.com/assets/colab-badge.svg\" alt=\"Open In Colab\"/></a>"
      ]
    },
    {
      "cell_type": "code",
      "metadata": {
        "id": "8rVIa9u9tHbe"
      },
      "source": [
        "import numpy as np\n",
        "import cv2"
      ],
      "execution_count": null,
      "outputs": []
    },
    {
      "cell_type": "code",
      "metadata": {
        "id": "uMaGca0DySf9"
      },
      "source": [
        "x = np.load('/content/drive/My Drive/Colab Notebooks/LICT/NamtaDB_64_npy/NamtaDB_64_x.npy')/255\n",
        "y = np.load('/content/drive/My Drive/Colab Notebooks/LICT/NamtaDB_64_npy/NamtaDB_64_y.npy')"
      ],
      "execution_count": null,
      "outputs": []
    },
    {
      "cell_type": "code",
      "metadata": {
        "id": "qAfM_Q5jydyM",
        "colab": {
          "base_uri": "https://localhost:8080/",
          "height": 34
        },
        "outputId": "c9d2ca5d-a9cb-4420-ed4e-4a33bb28efee"
      },
      "source": [
        "x = x.reshape(-1,64,64,1)\n",
        "from keras.utils import to_categorical\n",
        "y = to_categorical(y)"
      ],
      "execution_count": null,
      "outputs": [
        {
          "output_type": "stream",
          "text": [
            "Using TensorFlow backend.\n"
          ],
          "name": "stderr"
        }
      ]
    },
    {
      "cell_type": "code",
      "metadata": {
        "id": "1MRO_R2fyqXU",
        "colab": {
          "base_uri": "https://localhost:8080/",
          "height": 34
        },
        "outputId": "5a057daf-2385-402c-af7e-13e9f15dbc08"
      },
      "source": [
        "y.shape"
      ],
      "execution_count": null,
      "outputs": [
        {
          "output_type": "execute_result",
          "data": {
            "text/plain": [
              "(72045, 10)"
            ]
          },
          "metadata": {
            "tags": []
          },
          "execution_count": 6
        }
      ]
    },
    {
      "cell_type": "code",
      "metadata": {
        "id": "ZP1TanxtyvCE",
        "colab": {
          "base_uri": "https://localhost:8080/",
          "height": 34
        },
        "outputId": "f1302786-4039-4907-c65b-34995dfd9442"
      },
      "source": [
        "x.shape"
      ],
      "execution_count": null,
      "outputs": [
        {
          "output_type": "execute_result",
          "data": {
            "text/plain": [
              "(72045, 64, 64, 1)"
            ]
          },
          "metadata": {
            "tags": []
          },
          "execution_count": 7
        }
      ]
    },
    {
      "cell_type": "code",
      "metadata": {
        "id": "UwnoRc_iyxQE"
      },
      "source": [
        "from keras import Sequential\n",
        "from keras.layers import Conv2D, MaxPooling2D, Flatten, Dropout, Dense"
      ],
      "execution_count": null,
      "outputs": []
    },
    {
      "cell_type": "code",
      "metadata": {
        "id": "t7oi0Z-qy0yT"
      },
      "source": [
        "model = Sequential()\n",
        "\n",
        "\n",
        "\n",
        "model.add(Conv2D(16, (5, 5), activation='relu', input_shape=(64, 64, 1)))\n",
        "model.add(Dropout(0.2))\n",
        "model.add(MaxPooling2D((2, 2)))\n",
        "model.add(Dense(32, activation='relu'))\n",
        "model.add(Dropout(0.2))\n",
        "model.add(MaxPooling2D((2, 2)))\n",
        "model.add(Dense(64, activation='relu'))\n",
        "model.add(Dropout(0.2))\n",
        "model.add(MaxPooling2D((2, 2)))\n",
        "\n",
        "model.add(Flatten())\n",
        "\n",
        "model.add(Dense(512, activation='relu'))\n",
        "model.add(Dropout(0.25))\n",
        "model.add(Dense(10, activation='softmax'))\n",
        "model.compile(optimizer='adam', loss='categorical_crossentropy', metrics=['accuracy'])"
      ],
      "execution_count": null,
      "outputs": []
    },
    {
      "cell_type": "code",
      "metadata": {
        "id": "0EPhrAaQzNqh",
        "colab": {
          "base_uri": "https://localhost:8080/",
          "height": 595
        },
        "outputId": "b9f33ce1-c155-44d3-e871-c553c932f546"
      },
      "source": [
        "model.summary()"
      ],
      "execution_count": null,
      "outputs": [
        {
          "output_type": "stream",
          "text": [
            "Model: \"sequential_1\"\n",
            "_________________________________________________________________\n",
            "Layer (type)                 Output Shape              Param #   \n",
            "=================================================================\n",
            "conv2d_1 (Conv2D)            (None, 60, 60, 16)        416       \n",
            "_________________________________________________________________\n",
            "dropout_1 (Dropout)          (None, 60, 60, 16)        0         \n",
            "_________________________________________________________________\n",
            "max_pooling2d_1 (MaxPooling2 (None, 30, 30, 16)        0         \n",
            "_________________________________________________________________\n",
            "dense_1 (Dense)              (None, 30, 30, 32)        544       \n",
            "_________________________________________________________________\n",
            "dropout_2 (Dropout)          (None, 30, 30, 32)        0         \n",
            "_________________________________________________________________\n",
            "max_pooling2d_2 (MaxPooling2 (None, 15, 15, 32)        0         \n",
            "_________________________________________________________________\n",
            "dense_2 (Dense)              (None, 15, 15, 64)        2112      \n",
            "_________________________________________________________________\n",
            "dropout_3 (Dropout)          (None, 15, 15, 64)        0         \n",
            "_________________________________________________________________\n",
            "max_pooling2d_3 (MaxPooling2 (None, 7, 7, 64)          0         \n",
            "_________________________________________________________________\n",
            "flatten_1 (Flatten)          (None, 3136)              0         \n",
            "_________________________________________________________________\n",
            "dense_3 (Dense)              (None, 512)               1606144   \n",
            "_________________________________________________________________\n",
            "dropout_4 (Dropout)          (None, 512)               0         \n",
            "_________________________________________________________________\n",
            "dense_4 (Dense)              (None, 10)                5130      \n",
            "=================================================================\n",
            "Total params: 1,614,346\n",
            "Trainable params: 1,614,346\n",
            "Non-trainable params: 0\n",
            "_________________________________________________________________\n"
          ],
          "name": "stdout"
        }
      ]
    },
    {
      "cell_type": "code",
      "metadata": {
        "id": "8QqDwqjjzTps",
        "colab": {
          "base_uri": "https://localhost:8080/",
          "height": 714
        },
        "outputId": "1bac9ccd-38bc-4f94-e85f-1d6957078a0b"
      },
      "source": [
        "history = model.fit(x,y, validation_split=0.2, epochs=20, batch_size=150)"
      ],
      "execution_count": null,
      "outputs": [
        {
          "output_type": "stream",
          "text": [
            "Train on 57636 samples, validate on 14409 samples\n",
            "Epoch 1/20\n",
            "57636/57636 [==============================] - 22s 376us/step - loss: 1.0576 - accuracy: 0.6486 - val_loss: 0.4040 - val_accuracy: 0.8794\n",
            "Epoch 2/20\n",
            "57636/57636 [==============================] - 15s 264us/step - loss: 0.3561 - accuracy: 0.8838 - val_loss: 0.3437 - val_accuracy: 0.8990\n",
            "Epoch 3/20\n",
            "57636/57636 [==============================] - 15s 264us/step - loss: 0.2466 - accuracy: 0.9190 - val_loss: 0.2797 - val_accuracy: 0.9144\n",
            "Epoch 4/20\n",
            "57636/57636 [==============================] - 15s 263us/step - loss: 0.1968 - accuracy: 0.9349 - val_loss: 0.2758 - val_accuracy: 0.9148\n",
            "Epoch 5/20\n",
            "57636/57636 [==============================] - 15s 266us/step - loss: 0.1679 - accuracy: 0.9441 - val_loss: 0.2774 - val_accuracy: 0.9094\n",
            "Epoch 6/20\n",
            "57636/57636 [==============================] - 15s 266us/step - loss: 0.1453 - accuracy: 0.9518 - val_loss: 0.2702 - val_accuracy: 0.9173\n",
            "Epoch 7/20\n",
            "57636/57636 [==============================] - 15s 262us/step - loss: 0.1301 - accuracy: 0.9557 - val_loss: 0.2692 - val_accuracy: 0.9204\n",
            "Epoch 8/20\n",
            "57636/57636 [==============================] - 15s 264us/step - loss: 0.1216 - accuracy: 0.9606 - val_loss: 0.2863 - val_accuracy: 0.9172\n",
            "Epoch 9/20\n",
            "57636/57636 [==============================] - 15s 262us/step - loss: 0.1041 - accuracy: 0.9650 - val_loss: 0.2988 - val_accuracy: 0.9198\n",
            "Epoch 10/20\n",
            "57636/57636 [==============================] - 15s 264us/step - loss: 0.0984 - accuracy: 0.9657 - val_loss: 0.2731 - val_accuracy: 0.9257\n",
            "Epoch 11/20\n",
            "57636/57636 [==============================] - 15s 265us/step - loss: 0.0942 - accuracy: 0.9682 - val_loss: 0.3538 - val_accuracy: 0.9116\n",
            "Epoch 12/20\n",
            "57636/57636 [==============================] - 15s 267us/step - loss: 0.0888 - accuracy: 0.9701 - val_loss: 0.3023 - val_accuracy: 0.9239\n",
            "Epoch 13/20\n",
            "57636/57636 [==============================] - 15s 266us/step - loss: 0.0824 - accuracy: 0.9715 - val_loss: 0.3127 - val_accuracy: 0.9250\n",
            "Epoch 14/20\n",
            "57636/57636 [==============================] - 15s 264us/step - loss: 0.0765 - accuracy: 0.9739 - val_loss: 0.3416 - val_accuracy: 0.9205\n",
            "Epoch 15/20\n",
            "57636/57636 [==============================] - 15s 264us/step - loss: 0.0722 - accuracy: 0.9755 - val_loss: 0.3187 - val_accuracy: 0.9250\n",
            "Epoch 16/20\n",
            "57636/57636 [==============================] - 15s 265us/step - loss: 0.0695 - accuracy: 0.9763 - val_loss: 0.3616 - val_accuracy: 0.9209\n",
            "Epoch 17/20\n",
            "57636/57636 [==============================] - 15s 264us/step - loss: 0.0658 - accuracy: 0.9777 - val_loss: 0.3788 - val_accuracy: 0.9212\n",
            "Epoch 18/20\n",
            "57636/57636 [==============================] - 15s 266us/step - loss: 0.0632 - accuracy: 0.9786 - val_loss: 0.3329 - val_accuracy: 0.9241\n",
            "Epoch 19/20\n",
            "57636/57636 [==============================] - 15s 266us/step - loss: 0.0601 - accuracy: 0.9797 - val_loss: 0.3906 - val_accuracy: 0.9219\n",
            "Epoch 20/20\n",
            "57636/57636 [==============================] - 15s 265us/step - loss: 0.0583 - accuracy: 0.9802 - val_loss: 0.3733 - val_accuracy: 0.9270\n"
          ],
          "name": "stdout"
        }
      ]
    },
    {
      "cell_type": "code",
      "metadata": {
        "id": "BSTHZ_AfzhKb",
        "colab": {
          "base_uri": "https://localhost:8080/",
          "height": 573
        },
        "outputId": "59d11e0b-6322-415c-8dbf-98f52b8562e6"
      },
      "source": [
        "import matplotlib.pyplot as plt\n",
        "\n",
        "plt.plot(history.history['loss'])\n",
        "plt.plot(history.history['val_loss'])\n",
        "plt.title('Model loss')\n",
        "plt.ylabel('Loss')\n",
        "plt.xlabel('Epoch')\n",
        "plt.legend(['Train', 'Test'], loc='upper left')\n",
        "plt.show()\n",
        "\n",
        "plt.plot(history.history['accuracy'])\n",
        "plt.plot(history.history['val_accuracy'])\n",
        "plt.title('Model accc')\n",
        "plt.ylabel('acc')\n",
        "plt.xlabel('Epoch')\n",
        "plt.legend(['Train', 'Test'], loc='upper left')\n",
        "plt.show()"
      ],
      "execution_count": null,
      "outputs": [
        {
          "output_type": "display_data",
          "data": {
            "image/png": "[encoded data removed]",
            "text/plain": [
              "<Figure size 432x288 with 1 Axes>"
            ]
          },
          "metadata": {
            "tags": [],
            "needs_background": "light"
          }
        },
        {
          "output_type": "display_data",
          "data": {
            "image/png": "[encoded data removed]",
            "text/plain": [
              "<Figure size 432x288 with 1 Axes>"
            ]
          },
          "metadata": {
            "tags": [],
            "needs_background": "light"
          }
        }
      ]
    },
    {
      "cell_type": "code",
      "metadata": {
        "id": "dCYAvJc-k_J0"
      },
      "source": [
        "model.save_weights('NamtaDB_model_64.h5')"
      ],
      "execution_count": null,
      "outputs": []
    },
    {
      "cell_type": "code",
      "metadata": {
        "id": "9-eD1jnRf1o9"
      },
      "source": [
        "model.save('NamtaDB_model____64.h5')"
      ],
      "execution_count": null,
      "outputs": []
    },
    {
      "cell_type": "code",
      "metadata": {
        "id": "zemuG2rm_Mxm"
      },
      "source": [
        "import cv2\n",
        "\n",
        "all_img = []\n",
        "\n",
        "img1 = cv2.imread('/content/test.png',0)\n",
        "(thresh, im_bw) = cv2.threshold(img1, 128, 255, cv2.THRESH_BINARY | cv2.THRESH_OTSU)\n",
        "inv = cv2.bitwise_not(im_bw)\n",
        "a = all_img.append(cv2.resize(inv, (64,64)))\n"
      ],
      "execution_count": null,
      "outputs": []
    },
    {
      "cell_type": "code",
      "metadata": {
        "id": "MM1dxF2zA9rM"
      },
      "source": [
        ""
      ],
      "execution_count": null,
      "outputs": []
    },
    {
      "cell_type": "code",
      "metadata": {
        "id": "hl4yXMVc-amh"
      },
      "source": [
        "image = cv2.imread('/content/test.png')\n",
        "\n",
        "def segment(image, height=64):\n",
        "    gray = cv2.cvtColor(image, cv2.COLOR_BGR2GRAY)\n",
        "    gray = cv2.GaussianBlur(gray, (7, 7), 0)\n",
        " \n",
        "    # threshold the image\n",
        "    ret,thresh1 = cv2.threshold(gray ,100,255,cv2.THRESH_BINARY_INV)\n",
        " \n",
        "    # dilate the white portions\n",
        "    dilate = cv2.dilate(thresh1, None, iterations=2)\n",
        " \n",
        "    # find contours in the image\n",
        "    cnts = cv2.findContours(dilate.copy(), cv2.RETR_EXTERNAL,\n",
        "        cv2.CHAIN_APPROX_SIMPLE)\n",
        "    cnts = cnts[1] if imutils.is_cv2() else cnts[0]\n",
        " \n",
        "    orig = image.copy()\n",
        "    i = 0\n",
        "    t = 0\n",
        "    c=0\n",
        "    x_all = []\n",
        "    w_all = []\n",
        "    lines = []\n",
        "    parts = []\n",
        " \n",
        "    for cnt in cnts:\n",
        "        # Check the area of contour, if it is very small ignore it\n",
        "        if(cv2.contourArea(cnt) < 100):\n",
        "            continue\n",
        " \n",
        "        # Filtered countours are detected\n",
        "        x,y,w,h = cv2.boundingRect(cnt)\n",
        "        x_all.append(x)\n",
        "        w_all.append(w)\n",
        "        i = i + 1\n",
        " \n",
        "    comb = np.zeros((2,len(x_all)))\n",
        "    comb[0,:]=x_all\n",
        "    comb[1,:]=w_all\n",
        "    comb = comb.T\n",
        "    comb = comb[comb[:,0].argsort()]\n",
        " \n",
        "    x_all = comb[:,0]\n",
        "    w_all = comb[:,1]\n",
        " \n",
        " \n",
        "    for i, item in enumerate (x_all):\n",
        "        if i < len(x_all)-1:\n",
        "            lines.append((item+w_all[i]+x_all[i+1])/2)\n",
        " \n",
        " \n",
        "    for i in range(len(lines)):\n",
        "        parts.append(cv2.resize(image[:,t:int(lines[i]),:],(height,height)))\n",
        "        t = int(lines[i])\n",
        "        if i == len(lines)-1:\n",
        "            parts.append(cv2.resize(image[:,t:,:],(height,height)))\n",
        "   \n",
        "    return parts"
      ],
      "execution_count": null,
      "outputs": []
    },
    {
      "cell_type": "code",
      "metadata": {
        "id": "mwZiJnKy_F8R"
      },
      "source": [
        "import cv2\n",
        "\n",
        "import imutils\n",
        "img = cv2.imread('/content/test.png')\n",
        "output = segment(img,64)\n",
        "\n",
        "#for i in range()\n"
      ],
      "execution_count": null,
      "outputs": []
    },
    {
      "cell_type": "code",
      "metadata": {
        "id": "H4Co1b7aFFF-"
      },
      "source": [
        ""
      ],
      "execution_count": null,
      "outputs": []
    }
  ]
}