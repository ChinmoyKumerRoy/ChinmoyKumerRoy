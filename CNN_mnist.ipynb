{
  "nbformat": 4,
  "nbformat_minor": 0,
  "metadata": {
    "colab": {
      "name": "CNN_mnist.ipynb",
      "provenance": [],
      "collapsed_sections": [],
      "authorship_tag": "ABX9TyMCXbOLZw8q01OZzlAp0lb+",
      "include_colab_link": true
    },
    "kernelspec": {
      "name": "python3",
      "display_name": "Python 3"
    },
    "accelerator": "GPU"
  },
  "cells": [
    {
      "cell_type": "markdown",
      "metadata": {
        "id": "view-in-github",
        "colab_type": "text"
      },
      "source": [
        "<a href=\"https://colab.research.google.com/github/ChinmoyKumerRoy/ChinmoyKumerRoy/blob/main/CNN_mnist.ipynb\" target=\"_parent\"><img src=\"https://colab.research.google.com/assets/colab-badge.svg\" alt=\"Open In Colab\"/></a>"
      ]
    },
    {
      "cell_type": "code",
      "metadata": {
        "id": "OQjyhQz5MjjE",
        "colab": {
          "base_uri": "https://localhost:8080/",
          "height": 34
        },
        "outputId": "e97c17be-acf0-4011-a85f-bf2bf7b5461b"
      },
      "source": [
        "import pandas as pd\n",
        "import numpy as np\n",
        "import matplotlib.pyplot as plt\n",
        "from sklearn.model_selection import train_test_split\n",
        "import keras\n",
        "from keras.models import Sequential\n",
        "from keras.layers import Dense"
      ],
      "execution_count": null,
      "outputs": [
        {
          "output_type": "stream",
          "text": [
            "Using TensorFlow backend.\n"
          ],
          "name": "stderr"
        }
      ]
    },
    {
      "cell_type": "code",
      "metadata": {
        "id": "EYvwoIjHX6bd"
      },
      "source": [
        "data = pd.read_csv('sample_data/mnist_train_small.csv').iloc[:,:].values\n",
        "y = data[:,0]\n",
        "x = data[:,1:]"
      ],
      "execution_count": null,
      "outputs": []
    },
    {
      "cell_type": "code",
      "metadata": {
        "id": "UMRUr2wZYCKi",
        "colab": {
          "base_uri": "https://localhost:8080/",
          "height": 34
        },
        "outputId": "fd13f1d9-5976-472a-a416-e3a8e1bc1834"
      },
      "source": [
        "temp = []\n",
        "for i in x:\n",
        "  temp.append(i.reshape(28,28))\n",
        "temp = np.array(temp)\n",
        "temp.shape"
      ],
      "execution_count": null,
      "outputs": [
        {
          "output_type": "execute_result",
          "data": {
            "text/plain": [
              "(19999, 28, 28)"
            ]
          },
          "metadata": {
            "tags": []
          },
          "execution_count": 3
        }
      ]
    },
    {
      "cell_type": "code",
      "metadata": {
        "id": "lWBQ_fsmYLLp"
      },
      "source": [
        "from keras.utils import to_categorical\n",
        "x = temp.reshape(-1,28,28,1)\n",
        "y = to_categorical(y)"
      ],
      "execution_count": null,
      "outputs": []
    },
    {
      "cell_type": "code",
      "metadata": {
        "id": "defZhxyAfEoh"
      },
      "source": [
        "X_train, X_test, y_train, y_test = train_test_split(x, y, test_size=0.2, random_state=42)"
      ],
      "execution_count": null,
      "outputs": []
    },
    {
      "cell_type": "code",
      "metadata": {
        "id": "LU3JQIOJYROB"
      },
      "source": [
        "from keras import Sequential\n",
        "from keras.layers import Conv2D, MaxPooling2D, Flatten, Dropout, Dense"
      ],
      "execution_count": null,
      "outputs": []
    },
    {
      "cell_type": "code",
      "metadata": {
        "id": "jaDI4htWYYaS"
      },
      "source": [
        "model = Sequential()\n",
        "model.add(Conv2D(32, kernel_size=(3, 3),activation='relu',input_shape=(28,28,1)))\n",
        "model.add(Conv2D(64, (3, 3), activation='relu'))\n",
        "model.add(MaxPooling2D(pool_size=(2, 2)))\n",
        "model.add(Dropout(0.25))\n",
        "model.add(Flatten())\n",
        "model.add(Dense(128, activation='relu'))\n",
        "model.add(Dropout(0.5))\n",
        "model.add(Dense(10, activation='softmax'))\n",
        "model.compile(optimizer='adam', loss='categorical_crossentropy', metrics=['accuracy'])\n"
      ],
      "execution_count": null,
      "outputs": []
    },
    {
      "cell_type": "code",
      "metadata": {
        "id": "0M25y0m7YiU6",
        "colab": {
          "base_uri": "https://localhost:8080/",
          "height": 425
        },
        "outputId": "70612fc8-4ba3-4e2d-a57e-8ae74bf23fda"
      },
      "source": [
        "model.summary()"
      ],
      "execution_count": null,
      "outputs": [
        {
          "output_type": "stream",
          "text": [
            "Model: \"sequential_2\"\n",
            "_________________________________________________________________\n",
            "Layer (type)                 Output Shape              Param #   \n",
            "=================================================================\n",
            "conv2d_3 (Conv2D)            (None, 26, 26, 32)        320       \n",
            "_________________________________________________________________\n",
            "conv2d_4 (Conv2D)            (None, 24, 24, 64)        18496     \n",
            "_________________________________________________________________\n",
            "max_pooling2d_2 (MaxPooling2 (None, 12, 12, 64)        0         \n",
            "_________________________________________________________________\n",
            "dropout_3 (Dropout)          (None, 12, 12, 64)        0         \n",
            "_________________________________________________________________\n",
            "flatten_2 (Flatten)          (None, 9216)              0         \n",
            "_________________________________________________________________\n",
            "dense_3 (Dense)              (None, 128)               1179776   \n",
            "_________________________________________________________________\n",
            "dropout_4 (Dropout)          (None, 128)               0         \n",
            "_________________________________________________________________\n",
            "dense_4 (Dense)              (None, 10)                1290      \n",
            "=================================================================\n",
            "Total params: 1,199,882\n",
            "Trainable params: 1,199,882\n",
            "Non-trainable params: 0\n",
            "_________________________________________________________________\n"
          ],
          "name": "stdout"
        }
      ]
    },
    {
      "cell_type": "code",
      "metadata": {
        "id": "akwrzWv3YjDB",
        "colab": {
          "base_uri": "https://localhost:8080/",
          "height": 442
        },
        "outputId": "a663e26e-b415-4e55-d0bc-a988cc0adc03"
      },
      "source": [
        "#history = model.fit(x, y, validation_split=0.1, epochs=12, batch_size=128)"
      ],
      "execution_count": null,
      "outputs": [
        {
          "output_type": "stream",
          "text": [
            "Train on 17999 samples, validate on 2000 samples\n",
            "Epoch 1/12\n",
            "17999/17999 [==============================] - 3s 155us/step - loss: 2.4274 - accuracy: 0.6706 - val_loss: 0.1711 - val_accuracy: 0.9525\n",
            "Epoch 2/12\n",
            "17999/17999 [==============================] - 2s 138us/step - loss: 0.2928 - accuracy: 0.9114 - val_loss: 0.1253 - val_accuracy: 0.9655\n",
            "Epoch 3/12\n",
            "17999/17999 [==============================] - 2s 137us/step - loss: 0.2041 - accuracy: 0.9379 - val_loss: 0.1081 - val_accuracy: 0.9745\n",
            "Epoch 4/12\n",
            "17999/17999 [==============================] - 3s 139us/step - loss: 0.1606 - accuracy: 0.9524 - val_loss: 0.0941 - val_accuracy: 0.9755\n",
            "Epoch 5/12\n",
            "17999/17999 [==============================] - 2s 138us/step - loss: 0.1308 - accuracy: 0.9594 - val_loss: 0.0844 - val_accuracy: 0.9790\n",
            "Epoch 6/12\n",
            "17999/17999 [==============================] - 2s 137us/step - loss: 0.1207 - accuracy: 0.9623 - val_loss: 0.0879 - val_accuracy: 0.9815\n",
            "Epoch 7/12\n",
            "17999/17999 [==============================] - 2s 137us/step - loss: 0.1056 - accuracy: 0.9674 - val_loss: 0.0908 - val_accuracy: 0.9780\n",
            "Epoch 8/12\n",
            "17999/17999 [==============================] - 2s 137us/step - loss: 0.0902 - accuracy: 0.9707 - val_loss: 0.0876 - val_accuracy: 0.9840\n",
            "Epoch 9/12\n",
            "17999/17999 [==============================] - 2s 136us/step - loss: 0.0816 - accuracy: 0.9742 - val_loss: 0.0829 - val_accuracy: 0.9835\n",
            "Epoch 10/12\n",
            "17999/17999 [==============================] - 2s 137us/step - loss: 0.0783 - accuracy: 0.9742 - val_loss: 0.0915 - val_accuracy: 0.9810\n",
            "Epoch 11/12\n",
            "17999/17999 [==============================] - 2s 138us/step - loss: 0.0687 - accuracy: 0.9769 - val_loss: 0.0805 - val_accuracy: 0.9825\n",
            "Epoch 12/12\n",
            "17999/17999 [==============================] - 3s 143us/step - loss: 0.0751 - accuracy: 0.9754 - val_loss: 0.0859 - val_accuracy: 0.9835\n"
          ],
          "name": "stdout"
        }
      ]
    },
    {
      "cell_type": "code",
      "metadata": {
        "id": "AaN04VT3YniB",
        "colab": {
          "base_uri": "https://localhost:8080/",
          "height": 573
        },
        "outputId": "a7a85d61-e635-44f6-ef06-2e1d86ee8d67"
      },
      "source": [
        "plt.plot(history.history['loss'])\n",
        "plt.plot(history.history['val_loss'])\n",
        "plt.title('Model loss')\n",
        "plt.ylabel('Loss')\n",
        "plt.xlabel('Epoch')\n",
        "plt.legend(['Train', 'Test'], loc='upper left')\n",
        "plt.show()\n",
        "\n",
        "plt.plot(history.history['accuracy'])\n",
        "plt.plot(history.history['val_accuracy'])\n",
        "plt.title('Model accc')\n",
        "plt.ylabel('acc')\n",
        "plt.xlabel('Epoch')\n",
        "plt.legend(['Train', 'Test'], loc='upper left')\n",
        "plt.show()"
      ],
      "execution_count": null,
      "outputs": [
        {
          "output_type": "display_data",
          "data": {
            "image/png": "[encoded data removed]",
            "text/plain": [
              "<Figure size 432x288 with 1 Axes>"
            ]
          },
          "metadata": {
            "tags": [],
            "needs_background": "light"
          }
        },
        {
          "output_type": "display_data",
          "data": {
            "image/png": "[encoded data removed]",
            "text/plain": [
              "<Figure size 432x288 with 1 Axes>"
            ]
          },
          "metadata": {
            "tags": [],
            "needs_background": "light"
          }
        }
      ]
    },
    {
      "cell_type": "code",
      "metadata": {
        "id": "dIfmgL6vZhlk"
      },
      "source": [
        "import cv2\n",
        "\n",
        "all_img = []\n",
        "for i in range(0,10):\n",
        "  img1 = cv2.imread(str(i)+'.jpg',0)\n",
        "  (thresh, im_bw) = cv2.threshold(img1, 128, 255, cv2.THRESH_BINARY | cv2.THRESH_OTSU)\n",
        "  inv = cv2.bitwise_not(im_bw)\n",
        "  all_img.append(cv2.resize(inv, (28,28)))"
      ],
      "execution_count": null,
      "outputs": []
    },
    {
      "cell_type": "code",
      "metadata": {
        "id": "lj3lG8a6Bq1r"
      },
      "source": [
        "all_img = np.array(all_img)"
      ],
      "execution_count": null,
      "outputs": []
    },
    {
      "cell_type": "code",
      "metadata": {
        "id": "HElwV0DIBuSG",
        "colab": {
          "base_uri": "https://localhost:8080/",
          "height": 240
        },
        "outputId": "5cf50626-d1b6-4b50-91da-b3ff76a3ad74"
      },
      "source": [
        "for i in range(1,11):\n",
        "  plt.subplot(2,5,i)\n",
        "  plt.imshow(all_img[i-1])\n",
        "  plt.title(np.argmax(model.predict(np.reshape(all_img[i-1],(-1,28,28,1)))))\n"
      ],
      "execution_count": null,
      "outputs": [
        {
          "output_type": "display_data",
          "data": {
            "image/png": "[encoded data removed]",
            "text/plain": [
              "<Figure size 432x288 with 10 Axes>"
            ]
          },
          "metadata": {
            "tags": [],
            "needs_background": "light"
          }
        }
      ]
    },
    {
      "cell_type": "code",
      "metadata": {
        "id": "NUesFdG4BwM2"
      },
      "source": [
        "from keras.preprocessing.image import ImageDataGenerator\n",
        "\n",
        "datagen = ImageDataGenerator(featurewise_center=True,featurewise_std_normalization=True,rotation_range=5,\n",
        "    width_shift_range=0.2,\n",
        "    height_shift_range=0.2,\n",
        "    horizontal_flip=False, zoom_range=0.1)\n",
        "\n",
        "datagen.fit(X_train)\n"
      ],
      "execution_count": null,
      "outputs": []
    },
    {
      "cell_type": "code",
      "metadata": {
        "id": "HsRwIQvceHw2",
        "colab": {
          "base_uri": "https://localhost:8080/",
          "height": 204
        },
        "outputId": "89bd2942-27db-4b34-d7ac-1df3faf8f114"
      },
      "source": [
        "# model.fit(X_train, y_train,validation_data=(X_test, y_test), batch_size=100, epochs=1)\n",
        "model.fit(datagen.flow(X_train, y_train,batch_size=100),validation_data=(X_test, y_test),epochs=5)"
      ],
      "execution_count": null,
      "outputs": [
        {
          "output_type": "stream",
          "text": [
            "Epoch 1/5\n",
            "160/160 [==============================] - 7s 47ms/step - loss: 0.4931 - accuracy: 0.8439 - val_loss: 38.7524 - val_accuracy: 0.6045\n",
            "Epoch 2/5\n",
            "160/160 [==============================] - 7s 45ms/step - loss: 0.4495 - accuracy: 0.8574 - val_loss: 36.0246 - val_accuracy: 0.5903\n",
            "Epoch 3/5\n",
            "160/160 [==============================] - 7s 45ms/step - loss: 0.4119 - accuracy: 0.8737 - val_loss: 67.6679 - val_accuracy: 0.4590\n",
            "Epoch 4/5\n",
            "160/160 [==============================] - 7s 45ms/step - loss: 0.3873 - accuracy: 0.8822 - val_loss: 48.1031 - val_accuracy: 0.5725\n",
            "Epoch 5/5\n",
            "160/160 [==============================] - 7s 45ms/step - loss: 0.3465 - accuracy: 0.8927 - val_loss: 83.6801 - val_accuracy: 0.4450\n"
          ],
          "name": "stdout"
        },
        {
          "output_type": "execute_result",
          "data": {
            "text/plain": [
              "<keras.callbacks.callbacks.History at 0x7f956e1a4630>"
            ]
          },
          "metadata": {
            "tags": []
          },
          "execution_count": 23
        }
      ]
    },
    {
      "cell_type": "code",
      "metadata": {
        "id": "tM3rt9UZeIc1"
      },
      "source": [
        ""
      ],
      "execution_count": null,
      "outputs": []
    }
  ]
}